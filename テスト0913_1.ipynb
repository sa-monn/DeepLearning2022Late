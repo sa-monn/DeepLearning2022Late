{
  "nbformat": 4,
  "nbformat_minor": 0,
  "metadata": {
    "colab": {
      "provenance": [],
      "authorship_tag": "ABX9TyOwS/gm+Y1G62Lb0z5BdBzC",
      "include_colab_link": true
    },
    "kernelspec": {
      "name": "python3",
      "display_name": "Python 3"
    },
    "language_info": {
      "name": "python"
    }
  },
  "cells": [
    {
      "cell_type": "markdown",
      "metadata": {
        "id": "view-in-github",
        "colab_type": "text"
      },
      "source": [
        "<a href=\"https://colab.research.google.com/github/sa-monn/DeepLearning2022Late/blob/main/%E3%83%86%E3%82%B9%E3%83%880913_1.ipynb\" target=\"_parent\"><img src=\"https://colab.research.google.com/assets/colab-badge.svg\" alt=\"Open In Colab\"/></a>"
      ]
    },
    {
      "cell_type": "markdown",
      "source": [
        "# リスト型とタプル型\n",
        "## リストとタプル"
      ],
      "metadata": {
        "id": "vJ_rBXhgUnnf"
      }
    },
    {
      "cell_type": "code",
      "execution_count": 1,
      "metadata": {
        "colab": {
          "base_uri": "https://localhost:8080/"
        },
        "id": "8t-Vgx7KUIfN",
        "outputId": "87cb8934-fa6c-44a1-deae-3b978f3ba28d"
      },
      "outputs": [
        {
          "output_type": "stream",
          "name": "stdout",
          "text": [
            "['アップル', 'ペン', 'ペン', 'パイナップル']\n",
            "ペンペン\n"
          ]
        }
      ],
      "source": [
        "# リスト…要素の変更が可能\n",
        "list = [ 'アップル','ペン', 'ペン', 'パイナップル' ]\n",
        "print(list)\n",
        "print(list[1] + list[2])"
      ]
    },
    {
      "cell_type": "code",
      "source": [
        "# タプル…要素を固定した配列\n",
        "tuple = ( 'アップル','ペン', 'ペン', 'パイナップル' )\n",
        "print(tuple)\n",
        "print(tuple[1] + tuple[2])"
      ],
      "metadata": {
        "colab": {
          "base_uri": "https://localhost:8080/"
        },
        "id": "fF2TSWdtU48X",
        "outputId": "ebc20351-8cfa-4875-b931-9887843e545e"
      },
      "execution_count": 2,
      "outputs": [
        {
          "output_type": "stream",
          "name": "stdout",
          "text": [
            "('アップル', 'ペン', 'ペン', 'パイナップル')\n",
            "ペンペン\n"
          ]
        }
      ]
    },
    {
      "cell_type": "markdown",
      "source": [
        "### 構成を変更できるのはリスト\n",
        "### 構成を変更できない（固定）はタプル"
      ],
      "metadata": {
        "id": "mRqEMDMUXLt2"
      }
    },
    {
      "cell_type": "code",
      "source": [
        "# リストの構成変更\n",
        "print(list)\n",
        "list.append(100) # 文字列データにあえて数値を追加\n",
        "print(list)\n",
        "del list[2] # リストの３番目を削除\n",
        "print(list)\n",
        "list[3] = 'ペン' # 数値100を'ペン'に更新\n",
        "print(list)\n",
        "list.insert(2, 'ペン') # 2番目の位置に'ペン'を挿入\n",
        "print(list)"
      ],
      "metadata": {
        "colab": {
          "base_uri": "https://localhost:8080/"
        },
        "id": "MwzyM0MBWmct",
        "outputId": "c4a92c1b-2759-4215-b546-44fc2260eacc"
      },
      "execution_count": 3,
      "outputs": [
        {
          "output_type": "stream",
          "name": "stdout",
          "text": [
            "['アップル', 'ペン', 'ペン', 'パイナップル']\n",
            "['アップル', 'ペン', 'ペン', 'パイナップル', 100]\n",
            "['アップル', 'ペン', 'パイナップル', 100]\n",
            "['アップル', 'ペン', 'パイナップル', 'ペン']\n",
            "['アップル', 'ペン', 'ペン', 'パイナップル', 'ペン']\n"
          ]
        }
      ]
    },
    {
      "cell_type": "markdown",
      "source": [
        "### リストやタプルの長さの取得"
      ],
      "metadata": {
        "id": "I-IZz9XybF_X"
      }
    },
    {
      "cell_type": "code",
      "source": [
        "print(list)\n",
        "print(len(list)) # len()で長さを取得する\n"
      ],
      "metadata": {
        "colab": {
          "base_uri": "https://localhost:8080/"
        },
        "id": "jblO_xuGXb96",
        "outputId": "094e915b-e1a0-43a4-a84a-c9fde2654195"
      },
      "execution_count": 4,
      "outputs": [
        {
          "output_type": "stream",
          "name": "stdout",
          "text": [
            "['アップル', 'ペン', 'ペン', 'パイナップル', 'ペン']\n",
            "5\n"
          ]
        }
      ]
    },
    {
      "cell_type": "markdown",
      "source": [
        "## スライス\n",
        "### データを抽出する（データを一部分取り出す）"
      ],
      "metadata": {
        "id": "CX6-R65Tb3Nu"
      }
    },
    {
      "cell_type": "code",
      "source": [
        "print(list)\n",
        "print(list[1]) # 何番目の要素の指定の仕方と同じ考え方\n",
        "print(list[1:3]) # １番目から3番目の手前までの範囲を指定して抽出 = スライス\n",
        "print(list[1:]) # 1番目から最後まで抽出（スライス）"
      ],
      "metadata": {
        "colab": {
          "base_uri": "https://localhost:8080/"
        },
        "id": "WdtsJsrabVlf",
        "outputId": "cad41190-22ec-4988-ea4b-2fe10e636d8f"
      },
      "execution_count": 5,
      "outputs": [
        {
          "output_type": "stream",
          "name": "stdout",
          "text": [
            "['アップル', 'ペン', 'ペン', 'パイナップル', 'ペン']\n",
            "ペン\n",
            "['ペン', 'ペン']\n",
            "['ペン', 'ペン', 'パイナップル', 'ペン']\n"
          ]
        }
      ]
    },
    {
      "cell_type": "markdown",
      "source": [
        "# SET型（集合型）\n",
        "集合型SETは順番を持たない。重複したデータも持たない。"
      ],
      "metadata": {
        "id": "gdKWd7Bjepc5"
      }
    },
    {
      "cell_type": "code",
      "source": [
        "# uniqという名前のSET型変数を作る\n",
        "uniq = set([ 'アップル','ペン', 'ペン', 'パイナップル'])\n",
        "print(uniq) # リストの時点では'ペン'が重複できていたが、SET型になって重複が消える"
      ],
      "metadata": {
        "colab": {
          "base_uri": "https://localhost:8080/"
        },
        "id": "yU0e5HSac7ez",
        "outputId": "15e08623-20f1-42b3-cf0e-d2a9512e451b"
      },
      "execution_count": 6,
      "outputs": [
        {
          "output_type": "stream",
          "name": "stdout",
          "text": [
            "{'アップル', 'パイナップル', 'ペン'}\n"
          ]
        }
      ]
    },
    {
      "cell_type": "markdown",
      "source": [
        "## 集合型の追加・変更・削除"
      ],
      "metadata": {
        "id": "kMZ-Qf5qg5xa"
      }
    },
    {
      "cell_type": "code",
      "source": [
        "print(uniq) \n",
        "uniq.add('バナナ') # 追加\n",
        "print(uniq)\n",
        "uniq.remove('ペン') # 削除\n",
        "print(uniq)"
      ],
      "metadata": {
        "colab": {
          "base_uri": "https://localhost:8080/"
        },
        "id": "H3S6uCJago1U",
        "outputId": "367890cc-293a-42b0-f297-16cbe098c6ab"
      },
      "execution_count": 7,
      "outputs": [
        {
          "output_type": "stream",
          "name": "stdout",
          "text": [
            "{'アップル', 'パイナップル', 'ペン'}\n",
            "{'アップル', 'パイナップル', 'ペン', 'バナナ'}\n",
            "{'アップル', 'パイナップル', 'バナナ'}\n"
          ]
        }
      ]
    },
    {
      "cell_type": "markdown",
      "source": [
        "## 集合の演算\n",
        "包括、積、和、差分"
      ],
      "metadata": {
        "id": "kL5OFtychRH6"
      }
    },
    {
      "cell_type": "code",
      "source": [
        "# uniqの値を再定義\n",
        "uniq = set([ 'アップル','ペン', 'ペン', 'パイナップル'])\n",
        "a = set (['アップル', 'ペン'])\n",
        "b = set (['ペン', 'パイナップル'])\n",
        "print(uniq)\n",
        "print(a)\n",
        "print(b)\n",
        "\n",
        "\n",
        " #集合aは集合bのsubset（部分集合）である？ = 包括関係\n",
        "print(a.issubset(uniq))\n",
        "# 集合aの中に'ペン'があるか？\n",
        "print( 'ペン' in a )\n",
        "# 集合bの中に'バナナ'があるか？\n",
        "print( 'バナナ' in b )"
      ],
      "metadata": {
        "colab": {
          "base_uri": "https://localhost:8080/"
        },
        "id": "6w4v9p3rhT2r",
        "outputId": "6f26f368-755f-494e-f4bd-82abbb11eafe"
      },
      "execution_count": 12,
      "outputs": [
        {
          "output_type": "stream",
          "name": "stdout",
          "text": [
            "{'アップル', 'パイナップル', 'ペン'}\n",
            "{'アップル', 'ペン'}\n",
            "{'パイナップル', 'ペン'}\n",
            "True\n",
            "True\n",
            "False\n"
          ]
        }
      ]
    },
    {
      "cell_type": "code",
      "source": [
        "# ある集合と別の集合の共通部分の要素（intertsection）\n",
        "# 集合aと集合bの共通集合\n",
        "print(a)\n",
        "print(b)\n",
        "print(a.intersection(b)) # 集合aのデータで集合bに共通のもの：積\n",
        "# 集合aと集合bの結合：和集合（SETなので重複は削除される）\n",
        "print(a.union(b)) #集合aと集合bの集まり\n",
        "# 集合aと集合bの差集合（aのみに含まれる集合）\n",
        "print(a.difference(b)) # aからbを取り除いた残り（差分：difference）"
      ],
      "metadata": {
        "colab": {
          "base_uri": "https://localhost:8080/"
        },
        "id": "9px6Sc67p_4M",
        "outputId": "7aa9a43d-50b7-4450-dcda-014fb6395785"
      },
      "execution_count": 15,
      "outputs": [
        {
          "output_type": "stream",
          "name": "stdout",
          "text": [
            "{'アップル', 'ペン'}\n",
            "{'パイナップル', 'ペン'}\n",
            "{'ペン'}\n",
            "{'アップル', 'パイナップル', 'ペン'}\n",
            "{'アップル'}\n"
          ]
        }
      ]
    },
    {
      "cell_type": "code",
      "source": [],
      "metadata": {
        "id": "Wvk9yEk9rxO5"
      },
      "execution_count": null,
      "outputs": []
    }
  ]
}
{
  "nbformat": 4,
  "nbformat_minor": 0,
  "metadata": {
    "colab": {
      "provenance": [],
      "authorship_tag": "ABX9TyMMa/Q7xouakLE+R3zDNuq2",
      "include_colab_link": true
    },
    "kernelspec": {
      "name": "python3",
      "display_name": "Python 3"
    },
    "language_info": {
      "name": "python"
    }
  },
  "cells": [
    {
      "cell_type": "markdown",
      "metadata": {
        "id": "view-in-github",
        "colab_type": "text"
      },
      "source": [
        "<a href=\"https://colab.research.google.com/github/sa-monn/DeepLearning2022Late/blob/main/0920%E9%96%A2%E6%95%B0%E5%AE%9A%E7%BE%A9.ipynb\" target=\"_parent\"><img src=\"https://colab.research.google.com/assets/colab-badge.svg\" alt=\"Open In Colab\"/></a>"
      ]
    },
    {
      "cell_type": "markdown",
      "source": [
        "# python3で関数を定義する\n",
        "## 関数定義"
      ],
      "metadata": {
        "id": "ZqshvRhEbPaB"
      }
    },
    {
      "cell_type": "code",
      "execution_count": 1,
      "metadata": {
        "colab": {
          "base_uri": "https://localhost:8080/"
        },
        "id": "NtfAHp_TbGmg",
        "outputId": "b64f1c99-21c6-4618-91a2-899661e78514"
      },
      "outputs": [
        {
          "output_type": "stream",
          "name": "stdout",
          "text": [
            "test message!\n"
          ]
        }
      ],
      "source": [
        "# helloという関数を定義する\n",
        "# \"hello, kansuu!\"と画面表示する関数\n",
        "def hello():\n",
        "  print('hello, kansuu!') # インデントされている\n",
        "  # インデントされている命令文などは関数の範囲の中\n",
        "print('test message!') #インデントされていない\n",
        "# インデントされていない命令文などは関数の範囲の外\n"
      ]
    },
    {
      "cell_type": "markdown",
      "source": [
        "## 関数を実行する"
      ],
      "metadata": {
        "id": "w92IZJE1d8bV"
      }
    },
    {
      "cell_type": "code",
      "source": [
        "# 作成した関数hello()をコールする\n",
        "hello()\n",
        "hello()"
      ],
      "metadata": {
        "colab": {
          "base_uri": "https://localhost:8080/"
        },
        "id": "a4udtIlQeA8z",
        "outputId": "72d75332-1b1c-4d6c-d2fc-8e012eab2ec0"
      },
      "execution_count": 2,
      "outputs": [
        {
          "output_type": "stream",
          "name": "stdout",
          "text": [
            "hello, kansuu!\n",
            "hello, kansuu!\n"
          ]
        }
      ]
    },
    {
      "cell_type": "markdown",
      "source": [
        "## 引数付きの関数を定義する"
      ],
      "metadata": {
        "id": "sZDx-cQUe0nm"
      }
    },
    {
      "cell_type": "code",
      "source": [
        "# 引数付きの関数hello()を定義\n",
        "def hello(who):\n",
        "  print('hello,' + who + '!')\n",
        "# ここが関数の終わり\n",
        "\n",
        "hello('python!')"
      ],
      "metadata": {
        "colab": {
          "base_uri": "https://localhost:8080/"
        },
        "id": "aE2pSwhceRlV",
        "outputId": "455fca93-e462-47e8-e6ce-efea83b6b66e"
      },
      "execution_count": 3,
      "outputs": [
        {
          "output_type": "stream",
          "name": "stdout",
          "text": [
            "hello,python!!\n"
          ]
        }
      ]
    },
    {
      "cell_type": "markdown",
      "source": [
        "### 複数の引数付きの関数を定義"
      ],
      "metadata": {
        "id": "2SzIjJZWgMQ7"
      }
    },
    {
      "cell_type": "code",
      "source": [
        "def hello(who, aisatu):\n",
        "  print('hello,' + who + 'さん' + aisatu)\n",
        "# 関数終わり\n",
        "\n",
        "hello('田中', 'おはよう')\n",
        "hello('鈴木', 'こんにちは')"
      ],
      "metadata": {
        "colab": {
          "base_uri": "https://localhost:8080/"
        },
        "id": "PQHDTNFufxA8",
        "outputId": "80c5b69c-df25-4da1-e660-701c60532d79"
      },
      "execution_count": 4,
      "outputs": [
        {
          "output_type": "stream",
          "name": "stdout",
          "text": [
            "hello,田中さんおはよう\n",
            "hello,鈴木さんこんにちは\n"
          ]
        }
      ]
    },
    {
      "cell_type": "markdown",
      "source": [
        "## 関数の戻り値を定義する\n",
        "### 戻り値1つの関数を定義"
      ],
      "metadata": {
        "id": "iAR1fCxch-54"
      }
    },
    {
      "cell_type": "code",
      "source": [
        "def helloBack(who, aisatu):\n",
        "  return who + 'さん' + aisatu\n",
        "# 関数のおわり\n",
        "\n",
        "# 戻り値を変数xに代入して表示\n",
        "x = helloBack('佐藤', 'こんばんは')\n",
        "print(x)"
      ],
      "metadata": {
        "colab": {
          "base_uri": "https://localhost:8080/"
        },
        "id": "w2nHMFeDhNuP",
        "outputId": "6892cddc-cc8f-4954-bd09-33329139fd8c"
      },
      "execution_count": 5,
      "outputs": [
        {
          "output_type": "stream",
          "name": "stdout",
          "text": [
            "佐藤さんこんばんは\n"
          ]
        }
      ]
    },
    {
      "cell_type": "markdown",
      "source": [
        "## 複数の戻り値を返す関数を定義"
      ],
      "metadata": {
        "id": "nu-HZJj0jkph"
      }
    },
    {
      "cell_type": "code",
      "source": [
        "def keisan(x, y):\n",
        "  # x, t, x+y この3つの値を返す\n",
        "  return x, y, x+y\n",
        "# 関数のおわり\n",
        "\n",
        "# 関数keisanを実行して戻り値を受け取る\n",
        "e, f, g = keisan(3, 6) # 戻り値が3, 6, 9 になる\n",
        "print(e, f, g)"
      ],
      "metadata": {
        "colab": {
          "base_uri": "https://localhost:8080/"
        },
        "id": "9WcL-Yvri6ul",
        "outputId": "718fbdca-c0fb-40c7-be81-4cc4f75e632f"
      },
      "execution_count": 6,
      "outputs": [
        {
          "output_type": "stream",
          "name": "stdout",
          "text": [
            "3 6 9\n"
          ]
        }
      ]
    },
    {
      "cell_type": "markdown",
      "source": [
        "## その他の文法\n",
        "### 分岐if文"
      ],
      "metadata": {
        "id": "o_Xf2f96luG5"
      }
    },
    {
      "cell_type": "code",
      "source": [
        "# if文の範囲もインデントで表す\n",
        "# numの値を閾値で分岐する\n",
        "def over(num, thres):\n",
        "  if num > thres: # numが閾値より大きいとき\n",
        "    print(str(num) + 'は' + str(thres) + 'より大きい')\n",
        "  else:\n",
        "    print(str(num) + 'は' + str(thres) + '以下です')\n",
        "  # 分岐のおわり\n",
        "# 関数のおわり\n",
        "\n",
        "over(333,100)\n",
        "over(-1,10)"
      ],
      "metadata": {
        "colab": {
          "base_uri": "https://localhost:8080/"
        },
        "id": "lhGNEoJZkzhG",
        "outputId": "318941e3-977f-471e-c179-1f34f73eb1f0"
      },
      "execution_count": 7,
      "outputs": [
        {
          "output_type": "stream",
          "name": "stdout",
          "text": [
            "333は100より大きい\n",
            "-1は10以下です\n"
          ]
        }
      ]
    },
    {
      "cell_type": "code",
      "source": [
        "# リストに第2引数の値が含まれるか判定\n",
        "def include(list, keyword):\n",
        "  uniq = set(list) # リストを集合に変換\n",
        "  if keyword in uniq:\n",
        "    print(keyword + 'が含まれる')\n",
        "  else:\n",
        "    print(keyword + 'が含まれない')\n",
        "  # 分岐のおわり\n",
        "# 関数のおわり\n",
        "\n",
        "# リストを引き渡して作成した関数を実行する\n",
        "list_1 = ['アップル', 'ペン', 'ペン', 'パイナップル'] # 第1引数に使うリスト\n",
        "include(list_1, 'パイナップル')\n",
        "include(list_1, 'バナナ')"
      ],
      "metadata": {
        "colab": {
          "base_uri": "https://localhost:8080/"
        },
        "id": "SDuPjGvsn97V",
        "outputId": "82ea63f2-9436-4a47-d70e-1b5457194aec"
      },
      "execution_count": 8,
      "outputs": [
        {
          "output_type": "stream",
          "name": "stdout",
          "text": [
            "パイナップルが含まれる\n",
            "バナナが含まれない\n"
          ]
        }
      ]
    },
    {
      "cell_type": "markdown",
      "source": [
        "## 繰り返し文（while文）"
      ],
      "metadata": {
        "id": "B7vlvRhmwuDR"
      }
    },
    {
      "cell_type": "code",
      "source": [
        "# while文は条件がtrueの間繰り返す\n",
        "\n",
        "def count(max):\n",
        "  num = 0\n",
        "  while num < max: # numがmaxの間、繰り返す\n",
        "    print(num)\n",
        "    num += 1\n",
        "  # while繰り返し終わり\n",
        "# 関数終わり\n",
        "\n",
        "count(5) # 作成した関数に引数を引き渡して実行"
      ],
      "metadata": {
        "colab": {
          "base_uri": "https://localhost:8080/"
        },
        "id": "baK-aOHsv22N",
        "outputId": "df5e7b78-7211-4eb5-94bf-1944f1acf1a7"
      },
      "execution_count": 10,
      "outputs": [
        {
          "output_type": "stream",
          "name": "stdout",
          "text": [
            "0\n",
            "1\n",
            "2\n",
            "3\n",
            "4\n"
          ]
        }
      ]
    },
    {
      "cell_type": "markdown",
      "source": [
        "## 繰り返し文\n",
        "### 変数βの集合から1つずつ取り出して変数aとして使う\n",
        "for 変数a in  range（変数β）:"
      ],
      "metadata": {
        "id": "4-NvKFdDy9OE"
      }
    },
    {
      "cell_type": "code",
      "source": [
        "# 集合（コレクション）の中から取り出して繰り返し\n",
        "def every(array):\n",
        "  for x in array: # arrayの中から1つずつデータを取り出しxに代入\n",
        "    print(x)\n",
        "  # for文終わり\n",
        "# 関数終わり\n",
        "\n",
        "list = [1,2,3]\n",
        "every(list)\n",
        "tuple = (4,5,6)\n",
        "every(tuple)\n",
        "\n",
        "# 辞書型もコレクション\n",
        "dict = {'a':7, 'b':8, 'c':9}\n",
        "every(dict) # キーワードの一覧表示\n",
        "values = dict.values() # 値のリストを取得\n",
        "every(values) # 値の一覧を表示\n",
        "# 文字列も文字配列としてコレクション扱いができる\n",
        "every('dog') # dogととして表示"
      ],
      "metadata": {
        "colab": {
          "base_uri": "https://localhost:8080/"
        },
        "id": "qK2YdOfJxgn_",
        "outputId": "2624958f-168e-49ec-adb2-12659cad655e"
      },
      "execution_count": 14,
      "outputs": [
        {
          "output_type": "stream",
          "name": "stdout",
          "text": [
            "1\n",
            "2\n",
            "3\n",
            "4\n",
            "5\n",
            "6\n",
            "a\n",
            "b\n",
            "c\n",
            "7\n",
            "8\n",
            "9\n",
            "d\n",
            "o\n",
            "g\n"
          ]
        }
      ]
    },
    {
      "cell_type": "code",
      "source": [
        "# カウンター変数で繰り返す\n",
        "# for in range（数値）0～数値未満繰り返す\n",
        "\n",
        "def count(num):\n",
        "  for i in range(num): # 0～num繰り返す\n",
        "    print(i)\n",
        "  #繰り返しの終わり\n",
        "# 関数のおわり\n",
        "\n",
        "count(3) # 3 = 0,1,2で繰り返す\n"
      ],
      "metadata": {
        "colab": {
          "base_uri": "https://localhost:8080/"
        },
        "id": "b1_Uhlox06It",
        "outputId": "b53a5883-0cb3-4c49-da18-61db8e392fde"
      },
      "execution_count": 15,
      "outputs": [
        {
          "output_type": "stream",
          "name": "stdout",
          "text": [
            "0\n",
            "1\n",
            "2\n"
          ]
        }
      ]
    },
    {
      "cell_type": "markdown",
      "source": [
        "## 繰り返しを中断したいときはbreak文"
      ],
      "metadata": {
        "id": "WRfO_VH-4vRn"
      }
    },
    {
      "cell_type": "code",
      "source": [
        "def stop (array):\n",
        "  for i in array:\n",
        "    if i >= 4:\n",
        "      break # ループを中断\n",
        "    print(i)\n",
        "    # 分岐終わり\n",
        "  # ループ終わり\n",
        "# 関数終わり\n",
        "\n",
        "list = [1,2,3,4,5,1,2,3,4,5]\n",
        "stop(list)"
      ],
      "metadata": {
        "colab": {
          "base_uri": "https://localhost:8080/"
        },
        "id": "VNmGG_hJ4tPU",
        "outputId": "6d28a252-9c12-4348-b1a3-272cce6253b6"
      },
      "execution_count": 16,
      "outputs": [
        {
          "output_type": "stream",
          "name": "stdout",
          "text": [
            "1\n",
            "2\n",
            "3\n"
          ]
        }
      ]
    },
    {
      "cell_type": "markdown",
      "source": [
        "## 繰り返しをスキップしたいときはcontinue命令"
      ],
      "metadata": {
        "id": "ACHsokyT6b9D"
      }
    },
    {
      "cell_type": "code",
      "source": [
        "def skip(array):\n",
        "  for i in array:\n",
        "    if i >= 4:\n",
        "      continue # 以降のループ内処理をスキップする\n",
        "    # 分岐終わり\n",
        "    print(i)\n",
        "  # 繰り返し終わり\n",
        "# 関数終わり\n",
        "\n",
        "list = [1,2,3,4,5,1,2,3,4,5]\n",
        "skip(list)"
      ],
      "metadata": {
        "colab": {
          "base_uri": "https://localhost:8080/"
        },
        "id": "tD7owOwo6GIH",
        "outputId": "113c0d8d-1691-432b-9637-bcf26c78a434"
      },
      "execution_count": 17,
      "outputs": [
        {
          "output_type": "stream",
          "name": "stdout",
          "text": [
            "1\n",
            "2\n",
            "3\n",
            "1\n",
            "2\n",
            "3\n"
          ]
        }
      ]
    },
    {
      "cell_type": "code",
      "source": [],
      "metadata": {
        "id": "9u0Esav77SQI"
      },
      "execution_count": null,
      "outputs": []
    }
  ]
}
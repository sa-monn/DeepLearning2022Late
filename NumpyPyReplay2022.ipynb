{
  "nbformat": 4,
  "nbformat_minor": 0,
  "metadata": {
    "colab": {
      "provenance": [],
      "authorship_tag": "ABX9TyPBTDTDEABmmquYUPAD7WPR",
      "include_colab_link": true
    },
    "kernelspec": {
      "name": "python3",
      "display_name": "Python 3"
    },
    "language_info": {
      "name": "python"
    }
  },
  "cells": [
    {
      "cell_type": "markdown",
      "metadata": {
        "id": "view-in-github",
        "colab_type": "text"
      },
      "source": [
        "<a href=\"https://colab.research.google.com/github/sa-monn/DeepLearning2022Late/blob/main/NumpyPyReplay2022.ipynb\" target=\"_parent\"><img src=\"https://colab.research.google.com/assets/colab-badge.svg\" alt=\"Open In Colab\"/></a>"
      ]
    },
    {
      "cell_type": "code",
      "execution_count": 1,
      "metadata": {
        "id": "YWoP_IzMhKFz"
      },
      "outputs": [],
      "source": [
        "import numpy as np"
      ]
    },
    {
      "cell_type": "code",
      "source": [
        "x = np.array([1.0, 2.0, 3.0, 4.0, 5.0])\n",
        "print(x)\n",
        "\n",
        "x = np.array([1,2,3])\n",
        "print(x) # [1 2 3]\n",
        "print(type(x))\n",
        "\n",
        "my_list1 = [1,2,3,4,5]\n",
        "my_array1 = np.array(my_list1)\n",
        "\n",
        "my_list2 = [10,20,30,40,50]\n",
        "my_lists = [my_list1, my_list2]\n",
        "my_lists\n",
        "\n",
        "my_array2 = np.array(my_lists)\n",
        "\n",
        "my_array2"
      ],
      "metadata": {
        "colab": {
          "base_uri": "https://localhost:8080/"
        },
        "id": "hfrB8ZqDhT4V",
        "outputId": "a739fdc8-9fe1-4626-c9b4-9dd19efa121d"
      },
      "execution_count": 2,
      "outputs": [
        {
          "output_type": "stream",
          "name": "stdout",
          "text": [
            "[1. 2. 3. 4. 5.]\n",
            "[1 2 3]\n",
            "<class 'numpy.ndarray'>\n"
          ]
        },
        {
          "output_type": "execute_result",
          "data": {
            "text/plain": [
              "array([[ 1,  2,  3,  4,  5],\n",
              "       [10, 20, 30, 40, 50]])"
            ]
          },
          "metadata": {},
          "execution_count": 2
        }
      ]
    },
    {
      "cell_type": "code",
      "source": [
        "a = np.array([1, 2, 3, 4])\n",
        "print(a.shape)\n",
        "\n",
        "b = np.array([[1, 2],[3,4]])\n",
        "print(b.shape)"
      ],
      "metadata": {
        "colab": {
          "base_uri": "https://localhost:8080/"
        },
        "id": "zpI6MQdjiC8J",
        "outputId": "6e0b55ad-4d40-4cc7-e8ac-4bcfda34fe24"
      },
      "execution_count": 4,
      "outputs": [
        {
          "output_type": "stream",
          "name": "stdout",
          "text": [
            "(4,)\n",
            "(2, 2)\n"
          ]
        }
      ]
    },
    {
      "cell_type": "code",
      "source": [
        "x = np.arange(10)\n",
        "print(x)\n",
        "\n",
        "x = np.arange(1, 10).reshape(3,3) \n",
        "y = np.arange(1, 10).reshape(3,3)\n",
        "#xを下記のように書き換えることも可能\n",
        "#x = np.reshape(x, (3,3))\n",
        "\n",
        "print(x)\n",
        "print(y)\n",
        "\n",
        "print(x + y)\n",
        "print(x - y)\n",
        "print(x * y)"
      ],
      "metadata": {
        "colab": {
          "base_uri": "https://localhost:8080/"
        },
        "id": "2QQxfjaTiORs",
        "outputId": "589a5167-76c7-4fb9-ef82-244a7828be15"
      },
      "execution_count": 5,
      "outputs": [
        {
          "output_type": "stream",
          "name": "stdout",
          "text": [
            "[0 1 2 3 4 5 6 7 8 9]\n",
            "[[1 2 3]\n",
            " [4 5 6]\n",
            " [7 8 9]]\n",
            "[[1 2 3]\n",
            " [4 5 6]\n",
            " [7 8 9]]\n",
            "[[ 2  4  6]\n",
            " [ 8 10 12]\n",
            " [14 16 18]]\n",
            "[[0 0 0]\n",
            " [0 0 0]\n",
            " [0 0 0]]\n",
            "[[ 1  4  9]\n",
            " [16 25 36]\n",
            " [49 64 81]]\n"
          ]
        }
      ]
    },
    {
      "cell_type": "code",
      "source": [
        "sample_array = np.arange(10)\n",
        "print(sample_array)\n",
        "\n",
        "sample_array2 = sample_array.reshape(2,5)\n",
        "print(sample_array2) \n",
        "\n",
        "sample_array3 = np.array([[1,2,3],[4,5,6]])\n",
        "sample_array4 = np.array([[7,8,9],[10,11,12]])\n",
        "\n",
        "print(np.concatenate([sample_array3,sample_array4],axis=1))\n",
        "# hstackでも行方向の結合が可能\n",
        "#print(np.hstack((sample_array3,sample_array4)))\n",
        "\n",
        "# axisに0を設定しているので、列方向 ([[1,2,3],[4,5,6],[7,8,9],[10,11,12]])\n",
        "print(np.concatenate([sample_array3,sample_array4],axis=0))\n",
        "\n",
        "# vstackで列方向の結合が可能\n",
        "print(np.vstack((sample_array3,sample_array4)))"
      ],
      "metadata": {
        "colab": {
          "base_uri": "https://localhost:8080/"
        },
        "id": "U7NhH-lpirnP",
        "outputId": "ae0d4e43-162b-410f-fd6e-75e1ed17db9b"
      },
      "execution_count": 6,
      "outputs": [
        {
          "output_type": "stream",
          "name": "stdout",
          "text": [
            "[0 1 2 3 4 5 6 7 8 9]\n",
            "[[0 1 2 3 4]\n",
            " [5 6 7 8 9]]\n",
            "[[ 1  2  3  7  8  9]\n",
            " [ 4  5  6 10 11 12]]\n",
            "[[ 1  2  3]\n",
            " [ 4  5  6]\n",
            " [ 7  8  9]\n",
            " [10 11 12]]\n",
            "[[ 1  2  3]\n",
            " [ 4  5  6]\n",
            " [ 7  8  9]\n",
            " [10 11 12]]\n"
          ]
        }
      ]
    },
    {
      "cell_type": "code",
      "source": [
        "# データの準備\n",
        "sample_array = np.arange(10)\n",
        "print(sample_array)\n",
        "\n",
        "# 上記の配列に「5」を足す計算\n",
        "# 要素をコピーして大きさを揃えて、配列の全ての要素に5を加算\n",
        "print(sample_array + 5)"
      ],
      "metadata": {
        "colab": {
          "base_uri": "https://localhost:8080/"
        },
        "id": "fVvF1xaqjNBH",
        "outputId": "5bd48d08-a44e-4fc5-d6b4-c8e0bf1ed1ee"
      },
      "execution_count": 7,
      "outputs": [
        {
          "output_type": "stream",
          "name": "stdout",
          "text": [
            "[0 1 2 3 4 5 6 7 8 9]\n",
            "[ 5  6  7  8  9 10 11 12 13 14]\n"
          ]
        }
      ]
    },
    {
      "cell_type": "code",
      "source": [
        "n1 = np.array([1,2,3,4,5])\n",
        "print(n1) # [1 2 3 4 5]\n",
        "\n",
        "print(np.ndim(n1))\n",
        "\n",
        "print(n1.shape)\n",
        "\n",
        "n2 = np.array([[1,2], [3,4], [5,6]])\n",
        "print(n2)\n",
        "\n",
        "print(n2.ndim)"
      ],
      "metadata": {
        "colab": {
          "base_uri": "https://localhost:8080/"
        },
        "id": "pPUX6HEOjPxZ",
        "outputId": "fd963fa4-b475-479a-c0b1-1e7b92316699"
      },
      "execution_count": 9,
      "outputs": [
        {
          "output_type": "stream",
          "name": "stdout",
          "text": [
            "[1 2 3 4 5]\n",
            "1\n",
            "(5,)\n",
            "[[1 2]\n",
            " [3 4]\n",
            " [5 6]]\n",
            "2\n"
          ]
        }
      ]
    },
    {
      "cell_type": "code",
      "source": [
        "#Pythonでは以下のように表します。\n",
        "my_li1 = [-1,4]\n",
        "\n",
        "my_li2 = [3,2]\n",
        "\n",
        "my_li3 = [2,5]\n",
        "\n",
        "my_li4 = [0,1]\n",
        "\n",
        "my_lists = [my_li1,my_li2,my_li3,my_li4]\n",
        "\n",
        "my_array3 = np.array(my_lists)\n",
        "\n",
        "my_array3"
      ],
      "metadata": {
        "colab": {
          "base_uri": "https://localhost:8080/"
        },
        "id": "FF8Ja2hhjcIE",
        "outputId": "a96d4a20-9833-4f06-df9b-3ea305e4c6ac"
      },
      "execution_count": 10,
      "outputs": [
        {
          "output_type": "execute_result",
          "data": {
            "text/plain": [
              "array([[-1,  4],\n",
              "       [ 3,  2],\n",
              "       [ 2,  5],\n",
              "       [ 0,  1]])"
            ]
          },
          "metadata": {},
          "execution_count": 10
        }
      ]
    },
    {
      "cell_type": "code",
      "source": [],
      "metadata": {
        "id": "wmSmb-PAkDqA"
      },
      "execution_count": null,
      "outputs": []
    }
  ]
}
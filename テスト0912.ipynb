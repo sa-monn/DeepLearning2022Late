{
  "nbformat": 4,
  "nbformat_minor": 0,
  "metadata": {
    "colab": {
      "provenance": [],
      "authorship_tag": "ABX9TyN+dPm4Z9XAHfAk+fkV4A/p",
      "include_colab_link": true
    },
    "kernelspec": {
      "name": "python3",
      "display_name": "Python 3"
    },
    "language_info": {
      "name": "python"
    }
  },
  "cells": [
    {
      "cell_type": "markdown",
      "metadata": {
        "id": "view-in-github",
        "colab_type": "text"
      },
      "source": [
        "<a href=\"https://colab.research.google.com/github/sa-monn/sa-monn-DeepLearning2022Late/blob/main/%E3%83%86%E3%82%B9%E3%83%880912.ipynb\" target=\"_parent\"><img src=\"https://colab.research.google.com/assets/colab-badge.svg\" alt=\"Open In Colab\"/></a>"
      ]
    },
    {
      "cell_type": "code",
      "execution_count": null,
      "metadata": {
        "colab": {
          "base_uri": "https://localhost:8080/"
        },
        "id": "5d3dW-slnvxj",
        "outputId": "0ac2b6ba-686c-479c-e2c9-1c60f7602048"
      },
      "outputs": [
        {
          "output_type": "stream",
          "name": "stdout",
          "text": [
            "Hello world!\n"
          ]
        }
      ],
      "source": [
        "print(\"Hello world!\")"
      ]
    },
    {
      "cell_type": "code",
      "source": [
        "x = 1.23456\n",
        "print(x)\n",
        "print(type(x))"
      ],
      "metadata": {
        "colab": {
          "base_uri": "https://localhost:8080/"
        },
        "id": "dvaQUcIcpV0R",
        "outputId": "903b95bd-9fb0-432f-f9b5-fd8f584defdf"
      },
      "execution_count": null,
      "outputs": [
        {
          "output_type": "stream",
          "name": "stdout",
          "text": [
            "1.23456\n",
            "<class 'float'>\n"
          ]
        }
      ]
    },
    {
      "cell_type": "code",
      "source": [
        "# 整数型、文字列型も表示する\n",
        "seisuu = 100\n",
        "print(type(seisuu))\n",
        "hello = \"Hello Python!\"\n",
        "print(type(hello))"
      ],
      "metadata": {
        "colab": {
          "base_uri": "https://localhost:8080/"
        },
        "id": "N2SanHHSqBro",
        "outputId": "a6616130-7c11-4b3f-eccb-5dffff9e57ae"
      },
      "execution_count": null,
      "outputs": [
        {
          "output_type": "stream",
          "name": "stdout",
          "text": [
            "<class 'int'>\n",
            "<class 'str'>\n"
          ]
        }
      ]
    },
    {
      "cell_type": "code",
      "source": [
        "# 型を変換する\n",
        "print(type(seisuu))# 整数型\n",
        "# 文字列型に変換\n",
        "strSeisuu = str(seisuu)\n",
        "print(type(strSeisuu))"
      ],
      "metadata": {
        "colab": {
          "base_uri": "https://localhost:8080/"
        },
        "id": "R6Om60PRqTfd",
        "outputId": "254797af-1dad-4e0b-ed8b-bf36c71b8ada"
      },
      "execution_count": null,
      "outputs": [
        {
          "output_type": "stream",
          "name": "stdout",
          "text": [
            "<class 'int'>\n",
            "<class 'str'>\n"
          ]
        }
      ]
    },
    {
      "cell_type": "code",
      "source": [
        "### 定数\n",
        "# Python3ではmNote, True/Falseは置き換え不可のパスワード\n",
        "print(type(None))\n",
        "# true/falseはboolean\n",
        "print(type(True))"
      ],
      "metadata": {
        "colab": {
          "base_uri": "https://localhost:8080/"
        },
        "id": "lLUMWgo-rx2-",
        "outputId": "2e52c743-49f5-4f2e-fe51-b38bf788bf92"
      },
      "execution_count": null,
      "outputs": [
        {
          "output_type": "stream",
          "name": "stdout",
          "text": [
            "<class 'NoneType'>\n",
            "<class 'bool'>\n"
          ]
        }
      ]
    },
    {
      "cell_type": "code",
      "source": [
        "# 足し算、引き算、掛け算はjavaと一緒\n",
        "# 割り算に注意\n",
        "print(6/4) #javaと違って整数同士の割り算も少数になる\n",
        "print(6/2)\n",
        "print(6//4) #javaのように整数同士の割り算の整数部を返す\n",
        "# あまり残もjavaといっしょ"
      ],
      "metadata": {
        "colab": {
          "base_uri": "https://localhost:8080/"
        },
        "id": "4HZDsOqnr0zU",
        "outputId": "ff68c19d-6512-4fa2-becf-0782da782641"
      },
      "execution_count": null,
      "outputs": [
        {
          "output_type": "stream",
          "name": "stdout",
          "text": [
            "1.5\n",
            "3.0\n",
            "1\n"
          ]
        }
      ]
    },
    {
      "cell_type": "code",
      "source": [
        "# 絶対値を出す関数\n",
        "print(abs(-3.14))\n",
        "# n乗計算\n",
        "print(pow(3,4)) #3の4乗\n",
        "print(3**4) #3の4乗"
      ],
      "metadata": {
        "colab": {
          "base_uri": "https://localhost:8080/"
        },
        "id": "SPXuildatjHw",
        "outputId": "4eefa235-615f-402d-a29b-ceca42be13fc"
      },
      "execution_count": null,
      "outputs": [
        {
          "output_type": "stream",
          "name": "stdout",
          "text": [
            "3.14\n",
            "81\n",
            "81\n"
          ]
        }
      ]
    },
    {
      "cell_type": "code",
      "source": [],
      "metadata": {
        "id": "T-77OoR4uYCI"
      },
      "execution_count": null,
      "outputs": []
    }
  ]
}
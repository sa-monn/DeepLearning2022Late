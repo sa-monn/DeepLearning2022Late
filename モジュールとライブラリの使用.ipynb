{
  "nbformat": 4,
  "nbformat_minor": 0,
  "metadata": {
    "colab": {
      "provenance": [],
      "authorship_tag": "ABX9TyPdG91HldQ7av5J0OpJcEB/",
      "include_colab_link": true
    },
    "kernelspec": {
      "name": "python3",
      "display_name": "Python 3"
    },
    "language_info": {
      "name": "python"
    }
  },
  "cells": [
    {
      "cell_type": "markdown",
      "metadata": {
        "id": "view-in-github",
        "colab_type": "text"
      },
      "source": [
        "<a href=\"https://colab.research.google.com/github/sa-monn/DeepLearning2022Late/blob/main/%E3%83%A2%E3%82%B8%E3%83%A5%E3%83%BC%E3%83%AB%E3%81%A8%E3%83%A9%E3%82%A4%E3%83%96%E3%83%A9%E3%83%AA%E3%81%AE%E4%BD%BF%E7%94%A8.ipynb\" target=\"_parent\"><img src=\"https://colab.research.google.com/assets/colab-badge.svg\" alt=\"Open In Colab\"/></a>"
      ]
    },
    {
      "cell_type": "markdown",
      "source": [
        "# モジュールを使う\n",
        "## import文でモジュールを読み込んで使う\n",
        "例）math"
      ],
      "metadata": {
        "id": "O_DlbB4_8yrk"
      }
    },
    {
      "cell_type": "code",
      "execution_count": 1,
      "metadata": {
        "colab": {
          "base_uri": "https://localhost:8080/"
        },
        "id": "8D0x_rWr8pzm",
        "outputId": "6cf6c9fe-9438-4848-8bf2-c38ff273f2bc"
      },
      "outputs": [
        {
          "output_type": "stream",
          "name": "stdout",
          "text": [
            "3.141592653589793\n",
            "25.0\n",
            "3.0\n"
          ]
        }
      ],
      "source": [
        "# mathモジュールを読み込む\n",
        "import math\n",
        "print(math.pi) # mathの中に定義してある円周率を表示\n",
        "print(math.pow(5, 2)) # 5の2乗\n",
        "print(math.sqrt(9)) # 9の平方根"
      ]
    },
    {
      "cell_type": "markdown",
      "source": [
        "## 数値計算用の便利なライブラリ\n",
        "https://numpy.org/"
      ],
      "metadata": {
        "id": "bBlS6Qh9_a9_"
      }
    },
    {
      "cell_type": "code",
      "source": [
        "# numpy を import\n",
        "import numpy as np"
      ],
      "metadata": {
        "id": "kY465eHs9kIs"
      },
      "execution_count": 2,
      "outputs": []
    },
    {
      "cell_type": "markdown",
      "source": [
        "### numpy配列(ndarray)を作る"
      ],
      "metadata": {
        "id": "WqGlvSiLes77"
      }
    },
    {
      "cell_type": "code",
      "source": [
        "# リストを引き渡して ndarray を作る\n",
        "a = np.array([5, 7, 3, 1, 4, 3])\n",
        "print(a)"
      ],
      "metadata": {
        "colab": {
          "base_uri": "https://localhost:8080/"
        },
        "id": "Guad6sGve2pT",
        "outputId": "ffb357d6-7e17-46d4-89ea-2721a2a8a607"
      },
      "execution_count": 3,
      "outputs": [
        {
          "output_type": "stream",
          "name": "stdout",
          "text": [
            "[5 7 3 1 4 3]\n"
          ]
        }
      ]
    },
    {
      "cell_type": "markdown",
      "source": [
        "### Numpyで配列の操作をしてみる\n",
        "配列を構成し直す"
      ],
      "metadata": {
        "id": "LtRLDDFLfQv_"
      }
    },
    {
      "cell_type": "code",
      "source": [
        "# 現在、aは１行１次元配列\n",
        "print(a)\n",
        "# a を 3行２列の２次元配列に構成しなおす\n",
        "b = a.reshape([3, 2]) # 新しい配列の構成を引数で指定する\n",
        "print(b)"
      ],
      "metadata": {
        "colab": {
          "base_uri": "https://localhost:8080/"
        },
        "id": "chZ1C7dpfNOL",
        "outputId": "68135b31-782a-424a-fe2c-98439c0979f6"
      },
      "execution_count": 4,
      "outputs": [
        {
          "output_type": "stream",
          "name": "stdout",
          "text": [
            "[5 7 3 1 4 3]\n",
            "[[5 7]\n",
            " [3 1]\n",
            " [4 3]]\n"
          ]
        }
      ]
    },
    {
      "cell_type": "markdown",
      "source": [
        "### Numpy配列の中身を初期化して作る"
      ],
      "metadata": {
        "id": "F25tu2s2gPoD"
      }
    },
    {
      "cell_type": "code",
      "source": [
        "# ３行４列の０が入った２次元配列を作る\n",
        "c = np.zeros((3, 4))\n",
        "print(c)\n",
        "# ランダムな値が入った配列を作る\n",
        "np.random.seed(0)\n",
        "r = np.random.rand(3, 4)\n",
        "print(r)"
      ],
      "metadata": {
        "colab": {
          "base_uri": "https://localhost:8080/"
        },
        "id": "AVhELEuUfbZq",
        "outputId": "c55f21d2-174c-4c1d-f7c5-299eb326d36c"
      },
      "execution_count": 5,
      "outputs": [
        {
          "output_type": "stream",
          "name": "stdout",
          "text": [
            "[[0. 0. 0. 0.]\n",
            " [0. 0. 0. 0.]\n",
            " [0. 0. 0. 0.]]\n",
            "[[0.5488135  0.71518937 0.60276338 0.54488318]\n",
            " [0.4236548  0.64589411 0.43758721 0.891773  ]\n",
            " [0.96366276 0.38344152 0.79172504 0.52889492]]\n"
          ]
        }
      ]
    },
    {
      "cell_type": "markdown",
      "source": [
        "### Numpyのスライスのやりかた\n",
        "### 基本\n",
        "スライス指定の仕方{start:stop:step}で指定する"
      ],
      "metadata": {
        "id": "NTlsfdREhSzj"
      }
    },
    {
      "cell_type": "code",
      "source": [
        "# リストのスライス\n",
        "l = list(range(10)) # 0～9までの10個の要素のリスト\n",
        "print(l)\n",
        "print(l[4:8]) # [4:8]でスライス\n",
        "print(l[: :-1]) # stepを-1でスライス"
      ],
      "metadata": {
        "colab": {
          "base_uri": "https://localhost:8080/"
        },
        "id": "9qxBzoXqgZjy",
        "outputId": "bcb8671d-9d7a-4513-ba51-5328e43c38b6"
      },
      "execution_count": 6,
      "outputs": [
        {
          "output_type": "stream",
          "name": "stdout",
          "text": [
            "[0, 1, 2, 3, 4, 5, 6, 7, 8, 9]\n",
            "[4, 5, 6, 7]\n",
            "[9, 8, 7, 6, 5, 4, 3, 2, 1, 0]\n"
          ]
        }
      ]
    },
    {
      "cell_type": "markdown",
      "source": [
        "### 1次元のNumpy配列(ndarray)におけるスライス"
      ],
      "metadata": {
        "id": "eVIn0S1RjCj5"
      }
    },
    {
      "cell_type": "code",
      "source": [
        "# 範囲を指定してndarrayを作る\n",
        "a = np.arange(10) # 0～9の10個の要素のndarray\n",
        "print(a)\n",
        "print(a[2:8])\n",
        "print(a[2:8:2]) #step2で2個飛ばし\n",
        "print(a[2:8:3])"
      ],
      "metadata": {
        "colab": {
          "base_uri": "https://localhost:8080/"
        },
        "id": "82ji8N59iu_P",
        "outputId": "60ed4f08-6abb-4473-b62d-65a98dab7fea"
      },
      "execution_count": 7,
      "outputs": [
        {
          "output_type": "stream",
          "name": "stdout",
          "text": [
            "[0 1 2 3 4 5 6 7 8 9]\n",
            "[2 3 4 5 6 7]\n",
            "[2 4 6]\n",
            "[2 5]\n"
          ]
        }
      ]
    },
    {
      "cell_type": "markdown",
      "source": [
        "### 1次元配列のndarrayのスライスに代入"
      ],
      "metadata": {
        "id": "AX6oirCMkkaJ"
      }
    },
    {
      "cell_type": "code",
      "source": [
        "print(a)\n",
        "a[3:6] = 100 # 指定した範囲に特定の値を代入\n",
        "print(a)\n",
        "a[3:6] = [100, 200, 300] # 指定した範囲にリストの値を代入\n",
        "print(a)\n",
        "# a[3:6] = [100, 200, 300, 400] # 3つの範囲を4つの要素で上書き\n",
        "a = np.arange(10)\n",
        "print(a)\n",
        "a[2:8:2] = 100 # start2, stop8にstep2で上書き\n",
        "print(a)"
      ],
      "metadata": {
        "colab": {
          "base_uri": "https://localhost:8080/"
        },
        "id": "wVISZt8vkeJu",
        "outputId": "05e476c9-54d2-4191-8ab4-f0c781cada86"
      },
      "execution_count": 8,
      "outputs": [
        {
          "output_type": "stream",
          "name": "stdout",
          "text": [
            "[0 1 2 3 4 5 6 7 8 9]\n",
            "[  0   1   2 100 100 100   6   7   8   9]\n",
            "[  0   1   2 100 200 300   6   7   8   9]\n",
            "[0 1 2 3 4 5 6 7 8 9]\n",
            "[  0   1 100   3 100   5 100   7   8   9]\n"
          ]
        }
      ]
    },
    {
      "cell_type": "markdown",
      "source": [
        "### 多次元配列のndarrayのスライス"
      ],
      "metadata": {
        "id": "WLtyyS8nnRu-"
      }
    },
    {
      "cell_type": "code",
      "source": [
        "# 3行4列の2次元配列を作る\n",
        "a = np.arange(12).reshape((3,4))\n",
        "print(a)\n",
        "# 2行目から終わりまでの行 = [1:]\n",
        "# 2行目から4列目手前までの列 = [1:3]\n",
        "print(a[1:, 1:3])\n",
        "b = np.arange(20).reshape(5, 4)\n",
        "print(b)\n",
        "# 9,10 13,14 17,18 の3行2列だけ抜き出す\n",
        "print(b[2:, 1:3])\n",
        "c = b[2:,1:3]\n",
        "# スライスした部分が何行何列なのか\n",
        "print(c.shape)"
      ],
      "metadata": {
        "colab": {
          "base_uri": "https://localhost:8080/"
        },
        "id": "YXE4dlroluTO",
        "outputId": "33f6de3e-36c4-4e2d-cda3-773d4d194409"
      },
      "execution_count": 15,
      "outputs": [
        {
          "output_type": "stream",
          "name": "stdout",
          "text": [
            "[[ 0  1  2  3]\n",
            " [ 4  5  6  7]\n",
            " [ 8  9 10 11]]\n",
            "[[ 5  6]\n",
            " [ 9 10]]\n",
            "[[ 0  1  2  3]\n",
            " [ 4  5  6  7]\n",
            " [ 8  9 10 11]\n",
            " [12 13 14 15]\n",
            " [16 17 18 19]]\n",
            "[[ 9 10]\n",
            " [13 14]\n",
            " [17 18]]\n",
            "(3, 2)\n"
          ]
        }
      ]
    },
    {
      "cell_type": "markdown",
      "source": [
        "### 多次元配列ndarrayへのスライスでの代入"
      ],
      "metadata": {
        "id": "7nP2S98krDQO"
      }
    },
    {
      "cell_type": "code",
      "source": [
        "# 要素数12の3行4列の2次元配列を作る\n",
        "a = np.arange(12).reshape(3,4)\n",
        "print(a)\n",
        "# 5, 6, 9, 10の部分をスライス\n",
        "print(a[1:,1:3])\n",
        "a[1:, 1:3] = 100\n",
        "print(a)\n",
        "# 多次元での上書きにリストを使う\n",
        "a[1:, 1:3] = [100, 200]\n",
        "print(a)\n",
        "# 多次元の上書きに2次元のリストを使う\n",
        "a[1:, 1:3] =[ [100, 200], [300, 400]]\n",
        "print(a)"
      ],
      "metadata": {
        "colab": {
          "base_uri": "https://localhost:8080/"
        },
        "id": "WZCGGTiYlom4",
        "outputId": "8687d44f-2fa6-4ba5-d7b0-fb3d22a53039"
      },
      "execution_count": 20,
      "outputs": [
        {
          "output_type": "stream",
          "name": "stdout",
          "text": [
            "[[ 0  1  2  3]\n",
            " [ 4  5  6  7]\n",
            " [ 8  9 10 11]]\n",
            "[[ 5  6]\n",
            " [ 9 10]]\n",
            "[[  0   1   2   3]\n",
            " [  4 100 100   7]\n",
            " [  8 100 100  11]]\n",
            "[[  0   1   2   3]\n",
            " [  4 100 200   7]\n",
            " [  8 100 200  11]]\n",
            "[[  0   1   2   3]\n",
            " [  4 100 200   7]\n",
            " [  8 300 400  11]]\n"
          ]
        }
      ]
    },
    {
      "cell_type": "markdown",
      "source": [
        "### 多次元のndarrayへのstepを使ったスライスでの代入"
      ],
      "metadata": {
        "id": "87YrkCM0t3qU"
      }
    },
    {
      "cell_type": "code",
      "source": [
        "# 要素数12　3行4列のndarrayを作って変数aに代入\n",
        "a = np.arange(12).reshape((3,4))\n",
        "print(a)\n",
        "#スライスにstepを使ってみる 4, 6, 8, 10抜き出す\n",
        "print(a[1:, ::2])\n",
        "# 0, 3, 4, 7抜き出す\n",
        "print(a[:2:, ::3])\n",
        "a[1: , ::2] = 100; # 4,6, 8, 10だったところを100で上書き\n",
        "print(a)\n",
        "#4, 6, 8, 10だったところをリストで上書き\n",
        "a[1:, ::2] = [100, 200]\n",
        "print(a)"
      ],
      "metadata": {
        "colab": {
          "base_uri": "https://localhost:8080/"
        },
        "id": "IB22BQqerje5",
        "outputId": "a98ea97b-a95f-4b4f-90b2-c4326535f027"
      },
      "execution_count": 24,
      "outputs": [
        {
          "output_type": "stream",
          "name": "stdout",
          "text": [
            "[[ 0  1  2  3]\n",
            " [ 4  5  6  7]\n",
            " [ 8  9 10 11]]\n",
            "[[ 4  6]\n",
            " [ 8 10]]\n",
            "[[0 3]\n",
            " [4 7]]\n",
            "[[  0   1   2   3]\n",
            " [100   5 100   7]\n",
            " [100   9 100  11]]\n",
            "[[  0   1   2   3]\n",
            " [100   5 200   7]\n",
            " [100   9 200  11]]\n"
          ]
        }
      ]
    },
    {
      "cell_type": "code",
      "source": [],
      "metadata": {
        "id": "ppP-xH78ukna"
      },
      "execution_count": null,
      "outputs": []
    }
  ]
}
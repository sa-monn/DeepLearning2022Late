{
  "nbformat": 4,
  "nbformat_minor": 0,
  "metadata": {
    "colab": {
      "provenance": [],
      "authorship_tag": "ABX9TyMYYp50Hxo0/YqMH5WM12zg",
      "include_colab_link": true
    },
    "kernelspec": {
      "name": "python3",
      "display_name": "Python 3"
    },
    "language_info": {
      "name": "python"
    }
  },
  "cells": [
    {
      "cell_type": "markdown",
      "metadata": {
        "id": "view-in-github",
        "colab_type": "text"
      },
      "source": [
        "<a href=\"https://colab.research.google.com/github/sa-monn/DeepLearning2022Late/blob/main/%E3%83%86%E3%82%B9%E3%83%880913_2.ipynb\" target=\"_parent\"><img src=\"https://colab.research.google.com/assets/colab-badge.svg\" alt=\"Open In Colab\"/></a>"
      ]
    },
    {
      "cell_type": "markdown",
      "source": [
        "#辞書型（dictionary）\n",
        "キーと値のペアで管理する"
      ],
      "metadata": {
        "id": "W29-nc88zQHF"
      }
    },
    {
      "cell_type": "markdown",
      "source": [
        "## 辞書型の定義文"
      ],
      "metadata": {
        "id": "9W6JioeEztEC"
      }
    },
    {
      "cell_type": "code",
      "execution_count": null,
      "metadata": {
        "colab": {
          "base_uri": "https://localhost:8080/"
        },
        "id": "9WP5E5mXyYAI",
        "outputId": "423ccaa2-6d7d-4991-e1c7-eb7b96b0824e"
      },
      "outputs": [
        {
          "output_type": "stream",
          "name": "stdout",
          "text": [
            "{'アップル': 1, 'ペン': 2, 'パイナップル': 3}\n",
            "2\n"
          ]
        }
      ],
      "source": [
        "# 辞書型のデータを作って変数dictに代入\n",
        "# {キーワード:値, 'キーワード':値}　でデータを管理\n",
        "dict = { 'アップル':1, 'ペン':2, 'パイナップル':3}\n",
        "print(dict)\n",
        "# 値を利用するときは、キーワードで指定\n",
        "print(dict['ペン'])"
      ]
    },
    {
      "cell_type": "markdown",
      "source": [
        "## 辞書型のキーワード一覧、値一覧を取得する"
      ],
      "metadata": {
        "id": "ePjNmTd61fCl"
      }
    },
    {
      "cell_type": "code",
      "source": [
        "print(dict)\n",
        "# dictに入っているキーの一覧\n",
        "print(dict.keys())\n",
        "# dictに入っている値の一覧\n",
        "print(dict.values())"
      ],
      "metadata": {
        "colab": {
          "base_uri": "https://localhost:8080/"
        },
        "id": "vZ2zKwuD1drf",
        "outputId": "9f054e32-0e13-4b91-b1a2-ae20513e57da"
      },
      "execution_count": null,
      "outputs": [
        {
          "output_type": "stream",
          "name": "stdout",
          "text": [
            "{'アップル': 1, 'ペン': 2, 'パイナップル': 3}\n",
            "dict_keys(['アップル', 'ペン', 'パイナップル'])\n",
            "dict_values([1, 2, 3])\n"
          ]
        }
      ]
    },
    {
      "cell_type": "markdown",
      "source": [
        "## 辞書型の追加・削除・更新"
      ],
      "metadata": {
        "id": "W49z12mL090z"
      }
    },
    {
      "cell_type": "code",
      "source": [
        "print(dict)\n",
        "#dictにバナナというキーワードで値5を追加\n",
        "#print(dict.keys())\n",
        "dict['バナナ'] = 5\n",
        "print(dict)\n",
        "# キーワードがすでにあったら、そのキーワードの値を更新\n",
        "dict['バナナ'] = 100\n",
        "print(dict)\n",
        "# キーワードで指定したペアを削除\n",
        "dict.pop('バナナ')\n",
        "print(dict)"
      ],
      "metadata": {
        "colab": {
          "base_uri": "https://localhost:8080/"
        },
        "id": "2i22aMLr0dPj",
        "outputId": "ab5da694-d557-485d-e357-3d931acffe16"
      },
      "execution_count": null,
      "outputs": [
        {
          "output_type": "stream",
          "name": "stdout",
          "text": [
            "{'アップル': 1, 'ペン': 2, 'パイナップル': 3}\n",
            "{'アップル': 1, 'ペン': 2, 'パイナップル': 3, 'バナナ': 5}\n",
            "{'アップル': 1, 'ペン': 2, 'パイナップル': 3, 'バナナ': 100}\n",
            "{'アップル': 1, 'ペン': 2, 'パイナップル': 3}\n"
          ]
        }
      ]
    },
    {
      "cell_type": "markdown",
      "source": [
        "# 文字列の整形\n",
        "## 文字列の連結と繰り返し\n",
        " "
      ],
      "metadata": {
        "id": "yQx8CV6X4esG"
      }
    },
    {
      "cell_type": "code",
      "source": [
        "# 文字列の連結方法①\n",
        "apple = 'アップル'\n",
        "pen = 'ペン'\n",
        "print(apple + pen) # プラス記号で連結\n",
        "# 文字列の連結方法②　文字配列を連結する\n",
        "piko = ['ペン', 'パイナップル', 'アップル', 'ペン']\n",
        "# printメソッドで連結して表示　例： , で連結\n",
        "print(','.join(piko))\n",
        "# 回数を指定してメッセージを表示\n",
        "pon = 'ポン'\n",
        "print(pon * 3)"
      ],
      "metadata": {
        "colab": {
          "base_uri": "https://localhost:8080/"
        },
        "id": "41fVsw0i3w4K",
        "outputId": "bb03f82c-e411-48e0-9fa2-e6f03136560d"
      },
      "execution_count": null,
      "outputs": [
        {
          "output_type": "stream",
          "name": "stdout",
          "text": [
            "アップルペン\n",
            "ペン,パイナップル,アップル,ペン\n",
            "ポンポンポン\n"
          ]
        }
      ]
    },
    {
      "cell_type": "markdown",
      "source": [
        "## 【重要】文字列の整形フォーマット"
      ],
      "metadata": {
        "id": "gDISXFhy68YR"
      }
    },
    {
      "cell_type": "code",
      "source": [
        "# 定数で指定した形のメッセージにする\n",
        "print('{}{}:{}円')\n",
        "# スロットを定義した順番に、その数だけデータを引き渡して文章を組み立てる\n",
        "print('{}{}:{}円'.format('アップル','ペン',100))\n",
        "# スロットを値のインデックスで指定することもできる\n",
        "print('{1}{2}:{0}円'.format(100, 'アップル', 'ペン'))"
      ],
      "metadata": {
        "colab": {
          "base_uri": "https://localhost:8080/"
        },
        "id": "RbhEbOoU6V3T",
        "outputId": "6033f118-c8c1-4c79-a18b-4d4034f7a9bc"
      },
      "execution_count": null,
      "outputs": [
        {
          "output_type": "stream",
          "name": "stdout",
          "text": [
            "{}{}:{}円\n",
            "アップルペン:100円\n",
            "アップルペン:100円\n"
          ]
        }
      ]
    },
    {
      "cell_type": "markdown",
      "source": [
        "# コレクション演算\n",
        "リスト、タプル、つまり順番がある集合のことをシーケンスという。\n",
        "順番がない集合を集合型（SET）という。\n",
        "上記2種類をまとめてコレクションという。\n",
        "len（長さ、量を取得）、max（最大値を取得）、min（最小値を取得）など。"
      ],
      "metadata": {
        "id": "JDs7-73MW092"
      }
    },
    {
      "cell_type": "code",
      "source": [
        "list = [1,1,2,3,4,5] # 6つの要素\n",
        "tuple = (10,9,7,7,8,8,9) # 7つの要素\n",
        "set = [1,-2,3,-4,5,-6,7,-8] #8つの要素\n",
        "# リストの長さ、最大値、最小値\n",
        "print(len(list), max(list), min(list))\n",
        "# タプルの長さ、最大値、最小値\n",
        "print(len(tuple), max(tuple), min(tuple))\n",
        "# セットの長さ（量）、最大値、最小値\n",
        "print(len(set), max(set), min(set))"
      ],
      "metadata": {
        "id": "PpcGEd7n7vQG",
        "colab": {
          "base_uri": "https://localhost:8080/"
        },
        "outputId": "1ec54b45-e878-4944-fda0-60c52bf3d910"
      },
      "execution_count": 4,
      "outputs": [
        {
          "output_type": "stream",
          "name": "stdout",
          "text": [
            "6 5 1\n",
            "7 10 7\n",
            "8 7 -8\n"
          ]
        }
      ]
    },
    {
      "cell_type": "code",
      "source": [],
      "metadata": {
        "id": "FHoHIqH6ZHKh"
      },
      "execution_count": null,
      "outputs": []
    }
  ]
}